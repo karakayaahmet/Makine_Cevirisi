{
 "cells": [
  {
   "cell_type": "code",
   "execution_count": 2,
   "id": "0c6aae70",
   "metadata": {},
   "outputs": [],
   "source": [
    "import pandas as pd\n",
    "import numpy as np"
   ]
  },
  {
   "cell_type": "code",
   "execution_count": 4,
   "id": "a2955ca7",
   "metadata": {},
   "outputs": [],
   "source": [
    "from tensorflow.keras.models import Model\n",
    "from tensorflow.keras.layers import Input, Dense, GRU, Embedding\n",
    "from tensorflow.keras.optimizers import RMSprop\n",
    "from tensorflow.keras.callbacks import ModelCheckpoint\n",
    "from tensorflow.keras.preprocessing.text import Tokenizer\n",
    "from tensorflow.keras.preprocessing.sequence import pad_sequences"
   ]
  },
  {
   "cell_type": "code",
   "execution_count": 2,
   "id": "4b99626c",
   "metadata": {},
   "outputs": [],
   "source": [
    "mark_start = \"ssss \"\n",
    "mark_end = \" eeee\""
   ]
  },
  {
   "cell_type": "code",
   "execution_count": 4,
   "id": "536420a8",
   "metadata": {},
   "outputs": [],
   "source": [
    "data_src = []\n",
    "data_dest = []"
   ]
  },
  {
   "cell_type": "code",
   "execution_count": 6,
   "id": "c4404a93",
   "metadata": {},
   "outputs": [],
   "source": [
    "for line in open(\"tur.txt\", encoding = \"utf-8\"):\n",
    "    en_text, tr_text = line.rstrip().split(\"\\t\")\n",
    "    \n",
    "    tr_text = mark_start + tr_text + mark_end\n",
    "    data_src.append(en_text)\n",
    "    data_dest.append(tr_text)"
   ]
  },
  {
   "cell_type": "code",
   "execution_count": 8,
   "id": "a3212601",
   "metadata": {},
   "outputs": [
    {
     "data": {
      "text/plain": [
       "946070"
      ]
     },
     "execution_count": 8,
     "metadata": {},
     "output_type": "execute_result"
    }
   ],
   "source": [
    "len(data_src)"
   ]
  },
  {
   "cell_type": "code",
   "execution_count": null,
   "id": "0e11c4eb",
   "metadata": {},
   "outputs": [],
   "source": []
  }
 ],
 "metadata": {
  "kernelspec": {
   "display_name": "Python 3 (ipykernel)",
   "language": "python",
   "name": "python3"
  },
  "language_info": {
   "codemirror_mode": {
    "name": "ipython",
    "version": 3
   },
   "file_extension": ".py",
   "mimetype": "text/x-python",
   "name": "python",
   "nbconvert_exporter": "python",
   "pygments_lexer": "ipython3",
   "version": "3.9.13"
  }
 },
 "nbformat": 4,
 "nbformat_minor": 5
}
