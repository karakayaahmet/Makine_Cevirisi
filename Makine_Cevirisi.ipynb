{
 "cells": [
  {
   "cell_type": "code",
   "execution_count": 2,
   "id": "0c6aae70",
   "metadata": {},
   "outputs": [],
   "source": [
    "import pandas as pd\n",
    "import numpy as np"
   ]
  },
  {
   "cell_type": "code",
   "execution_count": 3,
   "id": "a2955ca7",
   "metadata": {},
   "outputs": [],
   "source": [
    "from tensorflow.keras.models import Model\n",
    "from tensorflow.keras.layers import Input, Dense, GRU, Embedding\n",
    "from tensorflow.keras.optimizers import RMSprop\n",
    "from tensorflow.keras.callbacks import ModelCheckpoint\n",
    "from tensorflow.keras.preprocessing.text import Tokenizer\n",
    "from tensorflow.keras.preprocessing.sequence import pad_sequences"
   ]
  },
  {
   "cell_type": "code",
   "execution_count": 4,
   "id": "4b99626c",
   "metadata": {},
   "outputs": [],
   "source": [
    "mark_start = \"ssss \"\n",
    "mark_end = \" eeee\""
   ]
  },
  {
   "cell_type": "code",
   "execution_count": 5,
   "id": "dfaae672",
   "metadata": {},
   "outputs": [],
   "source": [
    "data_src = []\n",
    "data_dest = []"
   ]
  },
  {
   "cell_type": "code",
   "execution_count": 6,
   "id": "3b5ccc28",
   "metadata": {},
   "outputs": [],
   "source": [
    "for line in open(\"tur.txt\", encoding = \"utf-8\"):\n",
    "    en_text, tr_text = line.rstrip().split(\"\\t\")\n",
    "    \n",
    "    tr_text = mark_start + tr_text + mark_end\n",
    "    data_src.append(en_text)\n",
    "    data_dest.append(tr_text)"
   ]
  },
  {
   "cell_type": "code",
   "execution_count": 7,
   "id": "3e8a77af",
   "metadata": {},
   "outputs": [
    {
     "data": {
      "text/plain": [
       "473035"
      ]
     },
     "execution_count": 7,
     "metadata": {},
     "output_type": "execute_result"
    }
   ],
   "source": [
    "len(data_src)"
   ]
  },
  {
   "cell_type": "code",
   "execution_count": 8,
   "id": "80d95443",
   "metadata": {},
   "outputs": [
    {
     "data": {
      "text/plain": [
       "473035"
      ]
     },
     "execution_count": 8,
     "metadata": {},
     "output_type": "execute_result"
    }
   ],
   "source": [
    "len(data_dest)"
   ]
  },
  {
   "cell_type": "code",
   "execution_count": 25,
   "id": "db22c4fc",
   "metadata": {},
   "outputs": [],
   "source": [
    "class TokenizerWrap(Tokenizer):\n",
    "    def __init__(self, texts, padding, reverse=False, num_words=None):\n",
    "        Tokenizer.__init__(self, num_words=num_words)\n",
    "        \n",
    "        self.fit_on_texts(texts)\n",
    "        \n",
    "        self.index_to_word = dict(zip(self.word_index.values(), self.word_index.keys()))\n",
    "        \n",
    "        self.tokens = self.texts_to_sequences(texts)\n",
    "        \n",
    "        if reverse:\n",
    "            self.tokens = [list(reversed(x)) for x in self.tokens]\n",
    "            truncating = \"pre\"\n",
    "            \n",
    "        else:\n",
    "            truncating = \"post\"\n",
    "            \n",
    "        self.num_tokens = [len(x) for x in self.tokens]\n",
    "        self.max_tokens = np.mean(self.num_tokens) + 2 * np.std(self.num_tokens)\n",
    "        self.max_tokens = int(self.max_tokens)\n",
    "        \n",
    "        self.tokens_padded = pad_sequences(self.tokens, maxlen=self.max_tokens, padding=padding, truncating=truncating)\n",
    "        \n",
    "    def token_to_word(self, token):\n",
    "        word = \" \" if token == 0 else self.index_to_word[token]\n",
    "        return word\n",
    "    \n",
    "    def tokens_to_string(self, tokens):\n",
    "        words = [self.index_to_word[token] for token in tokens if token != 0]\n",
    "        text = \" \".join(words)\n",
    "        return text\n",
    "    \n",
    "    def text_to_tokens(self, text, padding, reverse=False):\n",
    "        tokens = self.text_to_sequences([text])\n",
    "        tokens = np.array(tokens)\n",
    "        \n",
    "        if reverse:\n",
    "            tokens = np.flip(tokens, axis=1)\n",
    "            truncating = \"pre\"\n",
    "            \n",
    "        else:\n",
    "            truncating = \"post\"\n",
    "            \n",
    "        tokens = pad_sequences(tokens, maxlen=self.max_tokens, padding=padding, truncating=truncating)\n",
    "        \n",
    "        return tokens\n",
    "        "
   ]
  },
  {
   "cell_type": "code",
   "execution_count": 26,
   "id": "35f2b0ed",
   "metadata": {},
   "outputs": [],
   "source": [
    "tokenizer_src = TokenizerWrap(texts=data_src, padding=\"pre\", reverse=True, num_words=None)"
   ]
  },
  {
   "cell_type": "code",
   "execution_count": 27,
   "id": "c08c0551",
   "metadata": {},
   "outputs": [],
   "source": [
    "tokenizer_dest = TokenizerWrap(texts=data_dest, padding=\"post\", reverse=False, num_words=None)"
   ]
  },
  {
   "cell_type": "code",
   "execution_count": 29,
   "id": "838218c5",
   "metadata": {},
   "outputs": [
    {
     "name": "stdout",
     "output_type": "stream",
     "text": [
      "(473035, 11)\n",
      "(473035, 10)\n"
     ]
    }
   ],
   "source": [
    "tokens_src = tokenizer_src.tokens_padded\n",
    "tokens_dest = tokenizer_dest.tokens_padded\n",
    "print(tokens_src.shape)\n",
    "print(tokens_dest.shape)"
   ]
  },
  {
   "cell_type": "code",
   "execution_count": 31,
   "id": "065ad327",
   "metadata": {},
   "outputs": [
    {
     "data": {
      "text/plain": [
       "array([   1, 2391,    4,   18, 4127,   48,    2,    0,    0,    0])"
      ]
     },
     "execution_count": 31,
     "metadata": {},
     "output_type": "execute_result"
    }
   ],
   "source": [
    "tokens_dest[200000]"
   ]
  },
  {
   "cell_type": "code",
   "execution_count": 34,
   "id": "6db82a48",
   "metadata": {},
   "outputs": [
    {
     "data": {
      "text/plain": [
       "'ssss eksik bir şey görebiliyor musun eeee'"
      ]
     },
     "execution_count": 34,
     "metadata": {},
     "output_type": "execute_result"
    }
   ],
   "source": [
    "tokenizer_dest.tokens_to_string(tokens_dest[200000])"
   ]
  },
  {
   "cell_type": "code",
   "execution_count": 36,
   "id": "755e5c27",
   "metadata": {},
   "outputs": [
    {
     "data": {
      "text/plain": [
       "array([   0,    0,    0,    0,    0,    0, 1028,  113,   95,    5,   39])"
      ]
     },
     "execution_count": 36,
     "metadata": {},
     "output_type": "execute_result"
    }
   ],
   "source": [
    "tokens_src[200000]"
   ]
  },
  {
   "cell_type": "code",
   "execution_count": 38,
   "id": "36990e2b",
   "metadata": {},
   "outputs": [
    {
     "data": {
      "text/plain": [
       "'missing anything see you can'"
      ]
     },
     "execution_count": 38,
     "metadata": {},
     "output_type": "execute_result"
    }
   ],
   "source": [
    "tokenizer_src.tokens_to_string(tokens_src[200000])"
   ]
  },
  {
   "cell_type": "code",
   "execution_count": 40,
   "id": "7033fd4e",
   "metadata": {},
   "outputs": [
    {
     "data": {
      "text/plain": [
       "1"
      ]
     },
     "execution_count": 40,
     "metadata": {},
     "output_type": "execute_result"
    }
   ],
   "source": [
    "token_start = tokenizer_dest.word_index[mark_start.strip()]\n",
    "token_start"
   ]
  },
  {
   "cell_type": "code",
   "execution_count": 41,
   "id": "89b695cd",
   "metadata": {},
   "outputs": [
    {
     "data": {
      "text/plain": [
       "2"
      ]
     },
     "execution_count": 41,
     "metadata": {},
     "output_type": "execute_result"
    }
   ],
   "source": [
    "token_end = tokenizer_dest.word_index[mark_end.strip()]\n",
    "token_end"
   ]
  }
 ],
 "metadata": {
  "kernelspec": {
   "display_name": "Python 3 (ipykernel)",
   "language": "python",
   "name": "python3"
  },
  "language_info": {
   "codemirror_mode": {
    "name": "ipython",
    "version": 3
   },
   "file_extension": ".py",
   "mimetype": "text/x-python",
   "name": "python",
   "nbconvert_exporter": "python",
   "pygments_lexer": "ipython3",
   "version": "3.9.13"
  }
 },
 "nbformat": 4,
 "nbformat_minor": 5
}
